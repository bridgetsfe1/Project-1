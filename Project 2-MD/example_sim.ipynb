{
 "cells": [
  {
   "cell_type": "code",
   "execution_count": 1,
   "metadata": {},
   "outputs": [],
   "source": [
    "import matplotlib.pyplot as plt\n",
    "from MD_fns import *"
   ]
  },
  {
   "cell_type": "code",
   "execution_count": 2,
   "metadata": {},
   "outputs": [
    {
     "ename": "NameError",
     "evalue": "name 'epsilon_respulsive' is not defined",
     "output_type": "error",
     "traceback": [
      "\u001b[0;31m---------------------------------------------------------------------------\u001b[0m",
      "\u001b[0;31mNameError\u001b[0m                                 Traceback (most recent call last)",
      "Cell \u001b[0;32mIn[2], line 23\u001b[0m\n\u001b[1;32m     20\u001b[0m \u001b[38;5;28;01mfor\u001b[39;00m step \u001b[38;5;129;01min\u001b[39;00m \u001b[38;5;28mrange\u001b[39m(total_steps):\n\u001b[1;32m     21\u001b[0m     \u001b[38;5;66;03m# Compute forces\u001b[39;00m\n\u001b[1;32m     22\u001b[0m     forces_harmonic \u001b[38;5;241m=\u001b[39m compute_harmonic_forces(positions, k, r0, box_size)\n\u001b[0;32m---> 23\u001b[0m     forces_repulsive \u001b[38;5;241m=\u001b[39m \u001b[43mcompute_lennard_jones_forces\u001b[49m\u001b[43m(\u001b[49m\u001b[43mpositions\u001b[49m\u001b[43m,\u001b[49m\u001b[43m \u001b[49m\u001b[43mepsilon_repulsive\u001b[49m\u001b[43m,\u001b[49m\u001b[43m \u001b[49m\u001b[43msigma\u001b[49m\u001b[43m,\u001b[49m\u001b[43m \u001b[49m\u001b[43mbox_size\u001b[49m\u001b[43m,\u001b[49m\u001b[43m \u001b[49m\u001b[38;5;124;43m'\u001b[39;49m\u001b[38;5;124;43mrepulsive\u001b[39;49m\u001b[38;5;124;43m'\u001b[39;49m\u001b[43m)\u001b[49m\n\u001b[1;32m     24\u001b[0m     forces_attractive \u001b[38;5;241m=\u001b[39m compute_lennard_jones_forces(positions, epsilon_attractive, sigma, box_size, \u001b[38;5;124m'\u001b[39m\u001b[38;5;124mattractive\u001b[39m\u001b[38;5;124m'\u001b[39m)\n\u001b[1;32m     25\u001b[0m     total_forces \u001b[38;5;241m=\u001b[39m forces_harmonic \u001b[38;5;241m+\u001b[39m forces_repulsive \u001b[38;5;241m+\u001b[39m forces_attractive\n",
      "File \u001b[0;32m/workspaces/Projects-cps/Project 2-MD/MD_fns.py:63\u001b[0m, in \u001b[0;36mcompute_lennard_jones_forces\u001b[0;34m(positions, epsilon, sigma, box_size, interaction_type)\u001b[0m\n\u001b[1;32m     61\u001b[0m \u001b[38;5;28;01mfor\u001b[39;00m j \u001b[38;5;129;01min\u001b[39;00m \u001b[38;5;28mrange\u001b[39m((i\u001b[38;5;241m+\u001b[39m\u001b[38;5;241m1\u001b[39m), (n_particles\u001b[38;5;241m-\u001b[39m\u001b[38;5;241m1\u001b[39m)): \u001b[38;5;66;03m#Determines interaction type based on given conditions\u001b[39;00m\n\u001b[1;32m     62\u001b[0m     \u001b[38;5;28;01mif\u001b[39;00m interaction_type \u001b[38;5;241m==\u001b[39m \u001b[38;5;124m'\u001b[39m\u001b[38;5;124mrepulsive\u001b[39m\u001b[38;5;124m'\u001b[39m \u001b[38;5;129;01mand\u001b[39;00m np\u001b[38;5;241m.\u001b[39mlinalg\u001b[38;5;241m.\u001b[39mnorm(i\u001b[38;5;241m-\u001b[39mj) \u001b[38;5;241m==\u001b[39m \u001b[38;5;241m2\u001b[39m:\n\u001b[0;32m---> 63\u001b[0m         epsilon \u001b[38;5;241m=\u001b[39m \u001b[43mepsilon_respulsive\u001b[49m \u001b[38;5;66;03m#given\u001b[39;00m\n\u001b[1;32m     64\u001b[0m     \u001b[38;5;28;01melif\u001b[39;00m interaction_type \u001b[38;5;241m==\u001b[39m \u001b[38;5;124m'\u001b[39m\u001b[38;5;124mattractive\u001b[39m\u001b[38;5;124m'\u001b[39m \u001b[38;5;129;01mand\u001b[39;00m np\u001b[38;5;241m.\u001b[39mlinalg\u001b[38;5;241m.\u001b[39mnorm(i\u001b[38;5;241m-\u001b[39mj) \u001b[38;5;241m>\u001b[39m \u001b[38;5;241m2\u001b[39m:\n\u001b[1;32m     65\u001b[0m         epsilon \u001b[38;5;241m=\u001b[39m epsilon_attractive \u001b[38;5;66;03m#given\u001b[39;00m\n",
      "\u001b[0;31mNameError\u001b[0m: name 'epsilon_respulsive' is not defined"
     ]
    }
   ],
   "source": [
    "# Simulation parameters\n",
    "dt = 0.01  # Time step\n",
    "total_steps = 10000  # Number of steps\n",
    "box_size = 100.0  # Size of the cubic box\n",
    "k = 1.0  # Spring constant\n",
    "mass = 1.0  # Particle mass\n",
    "r0 = 1.0  # Equilibrium bond length\n",
    "target_temperature = 0.1  # Target temperature\n",
    "rescale_interval = 100  # Steps between velocity rescaling\n",
    "n_particles = 20  # Number of particles\n",
    "epsilon_repulsive = 1.0  # Depth of repulsive LJ potential\n",
    "epsilon_attractive = 0.5  # Depth of attractive LJ potential\n",
    "sigma = 1.0  # LJ potential parameter\n",
    "\n",
    "# Initialize positions and velocities\n",
    "positions = initialize_chain(n_particles, box_size, r0)\n",
    "velocities = initialize_velocities(n_particles, target_temperature, mass)\n",
    "\n",
    "# Simulation loop\n",
    "for step in range(total_steps):\n",
    "    # Compute forces\n",
    "    forces_harmonic = compute_harmonic_forces(positions, k, r0, box_size)\n",
    "    forces_repulsive = compute_lennard_jones_forces(positions, epsilon_repulsive, sigma, box_size, 'repulsive')\n",
    "    forces_attractive = compute_lennard_jones_forces(positions, epsilon_attractive, sigma, box_size, 'attractive')\n",
    "    total_forces = forces_harmonic + forces_repulsive + forces_attractive\n",
    "    \n",
    "    # Integrate equations of motion\n",
    "    positions, velocities, total_forces = velocity_verlet(positions, velocities, total_forces, dt, mass)\n",
    "    \n",
    "    # Apply thermostat\n",
    "    if step % rescale_interval == 0:\n",
    "        velocities = rescale_velocities(velocities, target_temperature, mass)\n",
    "    \n",
    "    # (Optional) Store data for analysis\n",
    "    # ...\n",
    "\n",
    "# Plot results\n",
    "# (Plotting code goes here)"
   ]
  }
 ],
 "metadata": {
  "kernelspec": {
   "display_name": "Python 3",
   "language": "python",
   "name": "python3"
  },
  "language_info": {
   "codemirror_mode": {
    "name": "ipython",
    "version": 3
   },
   "file_extension": ".py",
   "mimetype": "text/x-python",
   "name": "python",
   "nbconvert_exporter": "python",
   "pygments_lexer": "ipython3",
   "version": "3.12.1"
  }
 },
 "nbformat": 4,
 "nbformat_minor": 2
}
